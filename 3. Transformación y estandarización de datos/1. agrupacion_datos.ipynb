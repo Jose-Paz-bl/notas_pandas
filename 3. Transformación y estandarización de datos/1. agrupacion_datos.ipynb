{
 "cells": [
  {
   "cell_type": "markdown",
   "metadata": {
    "application/vnd.databricks.v1+cell": {
     "cellMetadata": {},
     "inputWidgets": {},
     "nuid": "bd47e9be-7aa7-4a42-871f-e3ef213854c5",
     "showTitle": false,
     "tableResultSettingsMap": {},
     "title": ""
    }
   },
   "source": [
    "La agrupación tiene un proceso donde, desde una tabla, se dividen los datos por algún criterio específico y después se les aplica algún método como contar únicos o sumar cantidades de acuerdo a los valores de cada columna. Finalmente, se combinan estos datos para crear un dataframe específico.\n",
    "\n",
    "Esto se hace con:\n",
    "\n",
    "**- df.groupby(\"nombre_tabla\")[\"nombre columna a agrupar\"].count() o .sum()** según lo que se busque hacer"
   ]
  },
  {
   "cell_type": "code",
   "execution_count": 0,
   "metadata": {
    "application/vnd.databricks.v1+cell": {
     "cellMetadata": {},
     "inputWidgets": {},
     "nuid": "1cc07894-a112-4faf-9112-b2a0243d7953",
     "showTitle": false,
     "tableResultSettingsMap": {},
     "title": ""
    }
   },
   "outputs": [],
   "source": [
    "import pandas as pd\n",
    "\n",
    "df = pd.read_csv('/datasets/music_log_processed.csv')\n",
    "\n",
    "#En este ejemplo sobre un dataset de música, queremos saber cuántas canciones hay por género\n",
    "genre_groups = df.groupby(\"genre\")[\"genre\"].count()\n",
    "\n",
    "print(genre_groups)"
   ]
  },
  {
   "cell_type": "code",
   "execution_count": 0,
   "metadata": {
    "application/vnd.databricks.v1+cell": {
     "cellMetadata": {},
     "inputWidgets": {},
     "nuid": "7755db6c-56c1-4320-8348-5cf5b9464151",
     "showTitle": false,
     "tableResultSettingsMap": {},
     "title": ""
    }
   },
   "outputs": [],
   "source": [
    "import pandas as pd\n",
    "\n",
    "df = pd.read_csv('/datasets/music_log_processed.csv')\n",
    "\n",
    "#En este ejemplo sobre el mismo dataset musical, queremos saber cuántas veces se ha reproducido cada género\n",
    "genre_groups = df.groupby('genre')[\"total_play\"].sum()\n",
    "\n",
    "print(genre_groups"
   ]
  },
  {
   "cell_type": "code",
   "execution_count": 0,
   "metadata": {
    "application/vnd.databricks.v1+cell": {
     "cellMetadata": {},
     "inputWidgets": {},
     "nuid": "89375c36-102a-4151-83b2-e8097ea59c8e",
     "showTitle": false,
     "tableResultSettingsMap": {},
     "title": ""
    }
   },
   "outputs": [],
   "source": [
    "import pandas as pd\n",
    "\n",
    "# Cargar el archivo CSV\n",
    "digimon_data = pd.read_csv('/datasets/DigiDB_digimonlist.csv')\n",
    "#Este print es muy buena práctica para recuperar el nombre correcto de las columnas antes de comenzar agrupaciones\n",
    "print(digimon_data.columns.tolist())\n",
    "\n",
    "# Agrupar los datos por cuenta de digimon y contar el número de digimones por nivel.\n",
    "grouped_stage_count =  digimon_data.groupby(\"Stage\")[\"Digimon\"].count()\n",
    "grouped_stage_sum =  digimon_data.groupby(\"Stage\")[\"Lv 50 HP\"].sum()\n",
    "grouped_stage_mean =  digimon_data.groupby(\"Stage\")[\"Lv50 Spd\"].mean()\n",
    "\n",
    "# Mostrar los resultados\n",
    "\n",
    "print('Distribución de los Digimons', '\\n',grouped_stage_count,'\\n')\n",
    "print('Total de Salud', '\\n',grouped_stage_sum, '\\n',)\n",
    "print('Promedio Nivel de Velocidad', '\\n',grouped_stage_mean)\n",
    "\n"
   ]
  }
 ],
 "metadata": {
  "application/vnd.databricks.v1+notebook": {
   "computePreferences": null,
   "dashboards": [],
   "environmentMetadata": {
    "base_environment": "",
    "environment_version": "4"
   },
   "inputWidgetPreferences": null,
   "language": "python",
   "notebookMetadata": {
    "pythonIndentUnit": 4
   },
   "notebookName": "1. agrupacion_datos",
   "widgets": {}
  },
  "language_info": {
   "name": "python"
  }
 },
 "nbformat": 4,
 "nbformat_minor": 0
}
