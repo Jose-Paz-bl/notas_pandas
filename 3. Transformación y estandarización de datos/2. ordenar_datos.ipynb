{
 "cells": [
  {
   "cell_type": "markdown",
   "metadata": {
    "application/vnd.databricks.v1+cell": {
     "cellMetadata": {},
     "inputWidgets": {},
     "nuid": "db9852f6-65bb-4a26-83ea-f16bb71723de",
     "showTitle": false,
     "tableResultSettingsMap": {},
     "title": ""
    }
   },
   "source": [
    "Para ordenar datos se usa el método\n",
    "\n",
    "- **.sort_values(by = \"nombre_columna\", ascending = True)**\n",
    "\n",
    "Es importante tomar en cuenta que este método aplica a toda una tabla. Si se aplicara solamente a una columna, no sería necesario agregar el nombre de la columna a ordenar."
   ]
  },
  {
   "cell_type": "code",
   "execution_count": 0,
   "metadata": {
    "application/vnd.databricks.v1+cell": {
     "cellMetadata": {},
     "inputWidgets": {},
     "nuid": "f8019b58-4a38-4c02-b1d4-4b8eedd4e4a9",
     "showTitle": false,
     "tableResultSettingsMap": {},
     "title": ""
    }
   },
   "outputs": [],
   "source": [
    "import pandas as pd\n",
    "\n",
    "df = pd.read_csv('/datasets/music_log_processed.csv')\n",
    "\n",
    "#En este ejemplo, vamos a filtrar las canciones de metal y ordenarlas por total_play. \n",
    "metal_ordenado = df[df[\"genre\"] == \"metal\"].sort_values(by=\"total_play\", ascending=False)\n",
    "\n",
    "print(metal_ordenado.head(10))"
   ]
  },
  {
   "cell_type": "code",
   "execution_count": 0,
   "metadata": {
    "application/vnd.databricks.v1+cell": {
     "cellMetadata": {},
     "inputWidgets": {},
     "nuid": "9f5881df-ddde-47c1-9eaf-dd9bf6de1f9f",
     "showTitle": false,
     "tableResultSettingsMap": {},
     "title": ""
    }
   },
   "outputs": [],
   "source": [
    "import pandas as pd\n",
    "\n",
    "df = pd.read_csv('/datasets/music_log_processed.csv')\n",
    "\n",
    "#En este ejemplo agrupamos los datos por género y aplicamos una suma a partir de la columna total play\n",
    "time_by_genre = df.groupby('genre')['total_play'].sum()\n",
    "\n",
    "#En este ejemplo, a la tabla agrupada, la ordenamos por el valor de la columna total para encontrar el género con mayor tiempo de reproducción.\n",
    "time_by_genre_sort = time_by_genre.sort_values(ascending=False)\n",
    "\n",
    "print(time_by_genre_sort.head(10))"
   ]
  }
 ],
 "metadata": {
  "application/vnd.databricks.v1+notebook": {
   "computePreferences": null,
   "dashboards": [],
   "environmentMetadata": {
    "base_environment": "",
    "environment_version": "4"
   },
   "inputWidgetPreferences": null,
   "language": "python",
   "notebookMetadata": {
    "pythonIndentUnit": 4
   },
   "notebookName": "2. ordenar_datos",
   "widgets": {}
  },
  "language_info": {
   "name": "python"
  }
 },
 "nbformat": 4,
 "nbformat_minor": 0
}
