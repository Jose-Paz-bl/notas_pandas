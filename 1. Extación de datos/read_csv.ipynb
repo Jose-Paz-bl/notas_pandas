{
 "cells": [
  {
   "cell_type": "code",
   "execution_count": 0,
   "metadata": {
    "application/vnd.databricks.v1+cell": {
     "cellMetadata": {},
     "inputWidgets": {},
     "nuid": "4712ce2d-d944-45fa-8524-9b43c620bd66",
     "showTitle": false,
     "tableResultSettingsMap": {},
     "title": ""
    }
   },
   "outputs": [],
   "source": [
    "import pandas as pd\n",
    "\n",
    "column_names = [\n",
    "    \"Nombre\",\n",
    "    \"Deporte\",\n",
    "    \"Edad\",\n",
    "    \"Salario\"\n",
    "]\n",
    "\n",
    "df = pd.read_csv(\n",
    "    \"/datasets/sports.csv\",\n",
    "    #En ocasiones se necesita precisar el separador para leer el archivo correctamente, para ello se usa sep como argumento \n",
    "    sep=\";\",\n",
    "    #Hay momentos donde los archivos no tienen las primeras filas como encabezados, entonces será necesario establecer header como None\n",
    "    header=None,\n",
    "    #Adicional a eso, se deberá colocar los nombres de las columnas. En ese caso, lo que se hizo fue una lista con los nombres\n",
    "    names=column_names,\n",
    "    #Finalmente, en ocasiones se necesitará que ciertos valores utilicen separadores númericos específicos, lo cual también se puede delimitar\n",
    "    decimal= \",\"\n",
    ")\n",
    "\n",
    "print(df.head())"
   ]
  }
 ],
 "metadata": {
  "application/vnd.databricks.v1+notebook": {
   "computePreferences": null,
   "dashboards": [],
   "environmentMetadata": {
    "base_environment": "",
    "environment_version": "4"
   },
   "inputWidgetPreferences": null,
   "language": "python",
   "notebookMetadata": {
    "pythonIndentUnit": 4
   },
   "notebookName": "read_csv",
   "widgets": {}
  },
  "language_info": {
   "name": "python"
  }
 },
 "nbformat": 4,
 "nbformat_minor": 0
}
