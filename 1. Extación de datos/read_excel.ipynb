{
 "cells": [
  {
   "cell_type": "code",
   "execution_count": 0,
   "metadata": {
    "application/vnd.databricks.v1+cell": {
     "cellMetadata": {},
     "inputWidgets": {},
     "nuid": "bb1bb233-6e40-4515-a5c2-275a4f88f4fc",
     "showTitle": false,
     "tableResultSettingsMap": {},
     "title": ""
    }
   },
   "outputs": [],
   "source": [
    "import pandas as pd\n",
    "\n",
    "#Para importar las hojas de un excel, se puede hacer con sheet_name = número de hoja por índice. El índice 0 es la primera hoja, mientras que el resto de índices son las demás hojas\n",
    "\n",
    "df_reviews = pd.read_excel(\"/datasets/product_reviews.xlsx\", sheet_name = 0)\n",
    "\n",
    "print(df_reviews)"
   ]
  },
  {
   "cell_type": "code",
   "execution_count": 0,
   "metadata": {
    "application/vnd.databricks.v1+cell": {
     "cellMetadata": {},
     "inputWidgets": {},
     "nuid": "59e8de43-037a-4b9f-9f58-26774cbbd4e6",
     "showTitle": false,
     "tableResultSettingsMap": {},
     "title": ""
    }
   },
   "outputs": [],
   "source": [
    "import pandas as pd\n",
    "\n",
    "#También se puede usar sheet_name para seleccionar una hoja por su nombre\n",
    "\n",
    "df_products = pd.read_excel(\"/datasets/product_reviews.xlsx\", sheet_name = \"products\")\n",
    "\n",
    "print(df_products)"
   ]
  },
  {
   "cell_type": "code",
   "execution_count": 0,
   "metadata": {
    "application/vnd.databricks.v1+cell": {
     "cellMetadata": {},
     "inputWidgets": {},
     "nuid": "dd1a750f-2f75-44db-93a0-16c70fbcd023",
     "showTitle": false,
     "tableResultSettingsMap": {},
     "title": ""
    }
   },
   "outputs": [],
   "source": [
    "import pandas as pd\n",
    "\n",
    ".shape\n",
    "\n",
    "#Este atributo de pandas, aplicado a datasets, devuelve una tupla especificando el numero de filas y columnas presentes en el data set. Es un método exploratorio\n",
    "\n",
    "data = pd.read_csv(\"/datasets/product_reviews.csv\")\n",
    "\n",
    "n_rows, n_cols = data.shape"
   ]
  },
  {
   "cell_type": "code",
   "execution_count": 0,
   "metadata": {
    "application/vnd.databricks.v1+cell": {
     "cellMetadata": {},
     "inputWidgets": {},
     "nuid": "fc3bb98a-550a-4bac-a1c8-8f858e5ed4e5",
     "showTitle": false,
     "tableResultSettingsMap": {},
     "title": ""
    }
   },
   "outputs": [],
   "source": [
    "#  Cargará los datos de todas las hojas en un objeto DataFrame.\n",
    "df = pd.read_excel('month_stats.xlsx', sheet_name=['Clients', 'Cities])."
   ]
  }
 ],
 "metadata": {
  "application/vnd.databricks.v1+notebook": {
   "computePreferences": null,
   "dashboards": [],
   "environmentMetadata": {
    "base_environment": "",
    "environment_version": "4"
   },
   "inputWidgetPreferences": null,
   "language": "python",
   "notebookMetadata": {
    "pythonIndentUnit": 4
   },
   "notebookName": "read_excel",
   "widgets": {}
  },
  "language_info": {
   "name": "python"
  }
 },
 "nbformat": 4,
 "nbformat_minor": 0
}
