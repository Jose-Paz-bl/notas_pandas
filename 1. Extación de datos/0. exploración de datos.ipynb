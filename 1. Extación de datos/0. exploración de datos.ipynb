{
 "cells": [
  {
   "cell_type": "markdown",
   "metadata": {
    "application/vnd.databricks.v1+cell": {
     "cellMetadata": {},
     "inputWidgets": {},
     "nuid": "f3ced5b5-f5c6-45ba-bac4-9e09e27fde40",
     "showTitle": false,
     "tableResultSettingsMap": {},
     "title": ""
    }
   },
   "source": [
    "%md\n",
    "En pandas es muy importante lo siguiente:\n",
    "- **df**: dataframe que es el equivalente a los datos accedidos mediante algun archivo y tiene los siguientes atributos\n",
    "- **display()** ayuda a mostrar el formato de tabla con las columnas y sus respectivos nombres y tipos de datos\n",
    "-** dtypes**: permite visualizar los tipos de datos de los valores de cada columna\n",
    "- **columns**: muestra los nombres de las columnas \n",
    "-** shape:** comprender el tamaño de la tabla en forma de tupla (datos inmutables donde aparecerá el numero de fila y luego el numero de columnas)\n",
    "- **info()**: contiene informacion global sobre la tabla \n",
    "\n",
    "Una buena estrategia es llamar a info para ver el panorama general y luego decidir alguna estrategia de aboraje\n"
   ]
  },
  {
   "cell_type": "markdown",
   "metadata": {
    "application/vnd.databricks.v1+cell": {
     "cellMetadata": {},
     "inputWidgets": {},
     "nuid": "30f4fa5a-eb4c-438e-85e4-1256894412d3",
     "showTitle": false,
     "tableResultSettingsMap": {},
     "title": ""
    }
   },
   "source": [
    "En el siguiente ejemplo podemos ver cómo, desde 0, se construye un data frame a partir de los datos que irán en filas y las columnas"
   ]
  },
  {
   "cell_type": "code",
   "execution_count": 0,
   "metadata": {
    "application/vnd.databricks.v1+cell": {
     "cellMetadata": {
      "byteLimit": 2048000,
      "rowLimit": 10000
     },
     "inputWidgets": {},
     "nuid": "9489aa88-d265-4559-b682-3c74886ca0e2",
     "showTitle": false,
     "tableResultSettingsMap": {},
     "title": ""
    }
   },
   "outputs": [],
   "source": [
    "%python\n",
    "import pandas as pd\n",
    "\n",
    "sales_data = [\n",
    "    ['Laptop', 'North America', 120, 120000],\n",
    "    ['Smartphone', 'Europe', 340, 170000],\n",
    "    ['Tablet', 'Asia', 210, 63000],\n",
    "    ['Headphones', 'South America', 150, 45000],\n",
    "    ['Smartwatch', 'Africa', 95, 28500],\n",
    "]\n",
    "\n",
    "columns = ['product_name', 'region', 'units_sold', 'revenue']\n",
    "\n",
    "sales_report = pd.DataFrame(data = sales_data,columns = columns)\n",
    "\n",
    "#Llamamos a info() para obtener una vista general\n",
    "print(\" -------> El reporte contiene la siguiente informacíon\")\n",
    "sales_report.info()\n",
    "\n",
    "#Llamamos a .shape para ver las columnas\n",
    "print(\" -------> El reporte contiene las siguientes filas y columnas\")\n",
    "print(sales_report.shape)\n",
    "\n",
    "#Llamamos a .dtypes para ver el tipo de dato\n",
    "print(\" -------> El reporte contiene los siguientes tipos de datos\")\n",
    "print(sales_report.dtypes)\n",
    "\n",
    "#Llamamos a .columns para ver las columnas\n",
    "print(\" -------> El reporte contiene las siguientes columnas\")\n",
    "print(sales_report.columns)\n",
    "\n",
    "#Llamamos a .isnull().sum() para ver si hay valores nulos\n",
    "print(\" -------> El reporte contiene los siguientes valores nulos\")\n",
    "print(sales_report.isnull().sum())\n",
    "\n",
    "#Llamamos a .notnull().sum() para ver si hay valores no nulos\n",
    "print(\" -------> El reporte contiene los siguientes valores no nulos\")\n",
    "print(sales_report.notnull().sum())\n",
    "\n",
    "#Desplegamos la información panorámica con display\n",
    "print(\" -------> Así se ve el reporte con display\")\n",
    "print(display(sales_report))"
   ]
  },
  {
   "cell_type": "markdown",
   "metadata": {
    "application/vnd.databricks.v1+cell": {
     "cellMetadata": {},
     "inputWidgets": {},
     "nuid": "46ccf992-7bd0-499f-83e4-28e5bb456675",
     "showTitle": false,
     "tableResultSettingsMap": {},
     "title": ""
    }
   },
   "source": [
    "- df.head() -> Trae las primeras 5 filas, se le puede especificar cuántas como argumento\n",
    "- df.tail() -> Traa las últimas 5 filas, se le puede especificar cuántas como argumento\n",
    "- df.info() -> Trae la información general del dataset\n",
    "- df.sample -> Trae información general más representativa de filas y columnas"
   ]
  },
  {
   "cell_type": "code",
   "execution_count": 0,
   "metadata": {
    "application/vnd.databricks.v1+cell": {
     "cellMetadata": {
      "byteLimit": 2048000,
      "rowLimit": 10000
     },
     "inputWidgets": {},
     "nuid": "36060e0c-b2d9-4338-b1f6-016d448155bb",
     "showTitle": false,
     "tableResultSettingsMap": {},
     "title": ""
    }
   },
   "outputs": [],
   "source": [
    "%python\n",
    "import pandas as pd\n",
    "\n",
    "# Carga del archivo CSV\n",
    "file_path = '/datasets/diabetes.csv'\n",
    "df = pd.read_csv(file_path)\n",
    "\n",
    "# Mostrar lo general con .info\n",
    "print(\"Información general del DataFrame:\")\n",
    "df.info()\n",
    "\n",
    "# Mostrar las primeras 3 filas con .head\n",
    "print(\"Primeras 3 filas:\")\n",
    "print(df.head(3))\n",
    "\n",
    "# Mostrar las últimas 3 filas con .tail\n",
    "print(\"\\nÚltimas 3 filas:\")\n",
    "print(df.tail(3))\n",
    "\n",
    "# Mostrar las últimas 3 filas con .sample\n",
    "#Obtiene una mestra representativa de los datos\n",
    "print(\"Primeras 3 filas:\")\n",
    "print(df.sample(3))\n",
    "\n",
    "#Esto muestra un punto aleatorio de los datos con .sample\n",
    "print(df.sample(5, random_state=1369))\n",
    "\n"
   ]
  }
 ],
 "metadata": {
  "application/vnd.databricks.v1+notebook": {
   "computePreferences": null,
   "dashboards": [],
   "environmentMetadata": {
    "base_environment": "",
    "environment_version": "3"
   },
   "inputWidgetPreferences": null,
   "language": "sql",
   "notebookMetadata": {
    "pythonIndentUnit": 4
   },
   "notebookName": "0. exploración de datos",
   "widgets": {}
  },
  "language_info": {
   "name": "sql"
  }
 },
 "nbformat": 4,
 "nbformat_minor": 0
}
