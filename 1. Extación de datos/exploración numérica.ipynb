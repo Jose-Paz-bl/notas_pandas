{
 "cells": [
  {
   "cell_type": "markdown",
   "metadata": {
    "application/vnd.databricks.v1+cell": {
     "cellMetadata": {},
     "inputWidgets": {},
     "nuid": "e808a374-07b1-4024-a12d-1349ad4d09ef",
     "showTitle": false,
     "tableResultSettingsMap": {},
     "title": ""
    }
   },
   "source": [
    "El análisis exploratorio numérico se puede hacer con\n",
    "\n",
    "- **describe()** ayuda a tener un panorama general de los datos con aproximaciones numéricas"
   ]
  },
  {
   "cell_type": "code",
   "execution_count": 0,
   "metadata": {
    "application/vnd.databricks.v1+cell": {
     "cellMetadata": {},
     "inputWidgets": {},
     "nuid": "c6c1b525-dc08-4fa5-945b-f22309407c23",
     "showTitle": false,
     "tableResultSettingsMap": {},
     "title": ""
    }
   },
   "outputs": [],
   "source": [
    "import pandas as pd\n",
    "\n",
    "# Definimos los nombres de las columnas\n",
    "column_names = [\n",
    "    'country',\n",
    "    'name',\n",
    "    'capacity_mw',\n",
    "    'latitude',\n",
    "    'longitude',\n",
    "    'primary_fuel',\n",
    "    'owner'\n",
    "]\n",
    "\n",
    "# Leemos el archivo CSV\n",
    "data = pd.read_csv(\n",
    "    '/datasets/gpp_modified.csv',\n",
    "    sep='|',          # El separador es '|'\n",
    "    header=None,      # No hay encabezados en el CSV\n",
    "    names=column_names, # Usamos la lista anterior como nombres de columnas\n",
    "    decimal=','        # Los decimales usan coma\n",
    ")\n",
    "\n",
    "# Mostramos estadísticas de valores con texto como count, unique, top y freq\n",
    "print(data.describe(include='object'))\n",
    "\n",
    "# Mostramos estadísticas de todas las columnas (numéricas y no numéricas), contemplando no solo las características de object, sino además mean, std, min, max\n",
    "print(data.describe(include='all'))\n",
    "\n",
    "# También podemos acceder a determinadas columnas haciendo referencia a ellas y aplicando describe\n",
    "print(data['primary_fuel'].describe())\n",
    "\n",
    "\n"
   ]
  }
 ],
 "metadata": {
  "application/vnd.databricks.v1+notebook": {
   "computePreferences": null,
   "dashboards": [],
   "environmentMetadata": {
    "base_environment": "",
    "environment_version": "4"
   },
   "inputWidgetPreferences": null,
   "language": "python",
   "notebookMetadata": {
    "pythonIndentUnit": 4
   },
   "notebookName": "exploración numérica",
   "widgets": {}
  },
  "language_info": {
   "name": "python"
  }
 },
 "nbformat": 4,
 "nbformat_minor": 0
}
