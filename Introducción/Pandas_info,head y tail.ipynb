{
 "cells": [
  {
   "cell_type": "markdown",
   "metadata": {
    "application/vnd.databricks.v1+cell": {
     "cellMetadata": {},
     "inputWidgets": {},
     "nuid": "46ccf992-7bd0-499f-83e4-28e5bb456675",
     "showTitle": false,
     "tableResultSettingsMap": {},
     "title": ""
    }
   },
   "source": [
    "- df.head() -> Trae las primeras 4 filas, se le puede especificar cuántas como argumento\n",
    "- df.tail() -> Traa las últimas 4 filas, se le puede especificar cuántas como argumento"
   ]
  },
  {
   "cell_type": "code",
   "execution_count": 0,
   "metadata": {
    "application/vnd.databricks.v1+cell": {
     "cellMetadata": {},
     "inputWidgets": {},
     "nuid": "8b83e1b6-c486-4cf7-8196-8130adf5c551",
     "showTitle": false,
     "tableResultSettingsMap": {},
     "title": ""
    }
   },
   "outputs": [],
   "source": [
    "%python\n",
    "import pandas as pd\n",
    "\n",
    "# Carga del archivo CSV\n",
    "file_path = \"/datasets/diabetes.xlsx\"\n",
    "\n",
    "# Tu código va aquí\n",
    "diabetes_data = pd.read_excel(file_path)\n",
    "\n",
    "# Mostrar la información estructural del DataFrame\n",
    "diabetes_data.info()"
   ]
  },
  {
   "cell_type": "code",
   "execution_count": 0,
   "metadata": {
    "application/vnd.databricks.v1+cell": {
     "cellMetadata": {
      "byteLimit": 2048000,
      "rowLimit": 10000
     },
     "inputWidgets": {},
     "nuid": "36060e0c-b2d9-4338-b1f6-016d448155bb",
     "showTitle": false,
     "tableResultSettingsMap": {},
     "title": ""
    }
   },
   "outputs": [],
   "source": [
    "import pandas as pd\n",
    "\n",
    "# Carga del archivo CSV\n",
    "file_path = '/datasets/diabetes.csv'\n",
    "df = pd.read_csv(file_path)\n",
    "\n",
    "# Mostrar las primeras 3 filas\n",
    "print(\"Primeras 3 filas:\")\n",
    "print(df.head(3))\n",
    "\n",
    "# Mostrar las últimas 3 filas\n",
    "print(\"\\nÚltimas 3 filas:\")\n",
    "print(df.tail(3))"
   ]
  }
 ],
 "metadata": {
  "application/vnd.databricks.v1+notebook": {
   "computePreferences": null,
   "dashboards": [],
   "environmentMetadata": {
    "base_environment": "",
    "environment_version": "3"
   },
   "inputWidgetPreferences": null,
   "language": "sql",
   "notebookMetadata": {
    "pythonIndentUnit": 4
   },
   "notebookName": "Pandas_info,head y tail",
   "widgets": {}
  },
  "language_info": {
   "name": "sql"
  }
 },
 "nbformat": 4,
 "nbformat_minor": 0
}
