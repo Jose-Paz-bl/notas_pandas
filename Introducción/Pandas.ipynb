{
 "cells": [
  {
   "cell_type": "markdown",
   "metadata": {
    "application/vnd.databricks.v1+cell": {
     "cellMetadata": {
      "byteLimit": 2048000,
      "rowLimit": 10000
     },
     "inputWidgets": {},
     "nuid": "010b16ab-64a3-4db9-8195-5a54e0c8bd41",
     "showTitle": false,
     "tableResultSettingsMap": {},
     "title": ""
    }
   },
   "source": [
    "En pandas es muy importante lo siguiente:\n",
    "-     df: dataframe que es el equivalente a los datos accedidos mediante algun archivo y tiene los siguientes atributos\n",
    "-         dtypes: permite visualizar los tipos de datos de los valores de cada columna\n",
    "-         columns: muestra los nombres de las columnas \n",
    "-         shape: comprender el tamaño de la tabla en forma de tupla (datos inmutables donde aparecerá el numero de fila y luego el numero de columnas)\n",
    "-         info(): contiene informacion global sobre la tabla \n",
    "\n",
    "Una buena estrategia es llamar a info para ver el panorama general y luego decidir alguna estrategia de aboraje\n"
   ]
  },
  {
   "cell_type": "markdown",
   "metadata": {
    "application/vnd.databricks.v1+cell": {
     "cellMetadata": {},
     "inputWidgets": {},
     "nuid": "f5e42d89-be76-42c2-a564-624313576a19",
     "showTitle": false,
     "tableResultSettingsMap": {},
     "title": ""
    }
   },
   "source": [
    "En el siguiente ejemplo podemos ver cómo, desde 0, se construye un data frame a partir de los datos que irán en filas y las columnas"
   ]
  },
  {
   "cell_type": "code",
   "execution_count": 0,
   "metadata": {
    "application/vnd.databricks.v1+cell": {
     "cellMetadata": {
      "byteLimit": 2048000,
      "rowLimit": 10000
     },
     "inputWidgets": {},
     "nuid": "a2818975-e17c-4a9b-9604-a34ee76ba2eb",
     "showTitle": false,
     "tableResultSettingsMap": {},
     "title": ""
    }
   },
   "outputs": [],
   "source": [
    "import pandas as pd\n",
    "\n",
    "sales_data = [\n",
    "    ['Laptop', 'North America', 120, 120000],\n",
    "    ['Smartphone', 'Europe', 340, 170000],\n",
    "    ['Tablet', 'Asia', 210, 63000],\n",
    "    ['Headphones', 'South America', 150, 45000],\n",
    "    ['Smartwatch', 'Africa', 95, 28500],\n",
    "]\n",
    "\n",
    "columns = ['product_name', 'region', 'units_sold', 'revenue']\n",
    "\n",
    "sales_report = pd.DataFrame(data = sales_data,columns = columns)\n",
    "\n",
    "print(sales_report)"
   ]
  }
 ],
 "metadata": {
  "application/vnd.databricks.v1+notebook": {
   "computePreferences": null,
   "dashboards": [],
   "environmentMetadata": {
    "base_environment": "",
    "environment_version": "3"
   },
   "inputWidgetPreferences": null,
   "language": "python",
   "notebookMetadata": {
    "pythonIndentUnit": 4
   },
   "notebookName": "Pandas",
   "widgets": {}
  },
  "language_info": {
   "name": "python"
  }
 },
 "nbformat": 4,
 "nbformat_minor": 0
}
