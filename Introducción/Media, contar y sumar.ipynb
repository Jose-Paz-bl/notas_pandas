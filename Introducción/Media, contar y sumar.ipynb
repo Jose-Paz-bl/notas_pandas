{
 "cells": [
  {
   "cell_type": "markdown",
   "metadata": {
    "application/vnd.databricks.v1+cell": {
     "cellMetadata": {},
     "inputWidgets": {},
     "nuid": "3d228452-df39-43ff-9fd0-e3e2576f15b6",
     "showTitle": false,
     "tableResultSettingsMap": {},
     "title": ""
    }
   },
   "source": [
    ".mean() obtiene la media\n",
    "\n",
    ".count() \n",
    "\n",
    ".sum()  "
   ]
  },
  {
   "cell_type": "code",
   "execution_count": 0,
   "metadata": {
    "application/vnd.databricks.v1+cell": {
     "cellMetadata": {},
     "inputWidgets": {},
     "nuid": "4feec6e9-dc8f-4143-bb75-9a86e1ff855e",
     "showTitle": false,
     "tableResultSettingsMap": {},
     "title": ""
    }
   },
   "outputs": [],
   "source": [
    "# .mean() para obtener la media de tiempo de reproduccion\n",
    "\n",
    "import pandas as pd\n",
    "\n",
    "df = pd.read_csv('/datasets/music_log_chpt_11.csv')\n",
    "\n",
    "user_mean_dur = df[df[\"user_id\"] == '5D9AAD37'][\"total play\"].mean()\n",
    "\n",
    "print(user_mean_dur)"
   ]
  },
  {
   "cell_type": "code",
   "execution_count": 0,
   "metadata": {
    "application/vnd.databricks.v1+cell": {
     "cellMetadata": {},
     "inputWidgets": {},
     "nuid": "10e977af-fa84-4604-bb57-3f4450a6b28d",
     "showTitle": false,
     "tableResultSettingsMap": {},
     "title": ""
    }
   },
   "outputs": [],
   "source": [
    "# .count() para obtener el conteo de canciones donde Aura es artista\n",
    "\n",
    "import pandas as pd\n",
    "\n",
    "df = pd.read_csv('/datasets/music_log_chpt_11.csv')\n",
    "\n",
    "aura_count = df[df[\"Artist\"] == \"Aura\"][\"Artist\"].count()\n",
    "\n",
    "print(aura_count)"
   ]
  },
  {
   "cell_type": "code",
   "execution_count": 0,
   "metadata": {
    "application/vnd.databricks.v1+cell": {
     "cellMetadata": {},
     "inputWidgets": {},
     "nuid": "01fa3314-8c45-4b93-865c-dfb4f7230272",
     "showTitle": false,
     "tableResultSettingsMap": {},
     "title": ""
    }
   },
   "outputs": [],
   "source": [
    "# .sum() para obtener el total de reproducciones de la cancion Zodiac\n",
    "\n",
    "import pandas as pd\n",
    "\n",
    "df = pd.read_csv('/datasets/music_log_chpt_11.csv')\n",
    "\n",
    "zodiac_total = df[df[\"Artist\"] == \"Zodiac\"][\"total play\"].sum()\n",
    "\n",
    "print(zodiac_total)"
   ]
  }
 ],
 "metadata": {
  "application/vnd.databricks.v1+notebook": {
   "computePreferences": null,
   "dashboards": [],
   "environmentMetadata": {
    "base_environment": "",
    "environment_version": "4"
   },
   "inputWidgetPreferences": null,
   "language": "python",
   "notebookMetadata": {
    "pythonIndentUnit": 4
   },
   "notebookName": "Media, contar y sumar",
   "widgets": {}
  },
  "language_info": {
   "name": "python"
  }
 },
 "nbformat": 4,
 "nbformat_minor": 0
}
