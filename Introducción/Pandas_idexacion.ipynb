{
 "cells": [
  {
   "cell_type": "markdown",
   "metadata": {
    "application/vnd.databricks.v1+cell": {
     "cellMetadata": {},
     "inputWidgets": {},
     "nuid": "073b30d2-07dc-4601-be7f-30fd8328402b",
     "showTitle": false,
     "tableResultSettingsMap": {},
     "title": ""
    }
   },
   "source": [
    "En pandas, podemos ubicar distintos elementos de la tabla a partir de .loc\n",
    "- df.loc[fila, columna]"
   ]
  },
  {
   "cell_type": "markdown",
   "metadata": {
    "application/vnd.databricks.v1+cell": {
     "cellMetadata": {},
     "inputWidgets": {},
     "nuid": "b820433d-46d6-472d-89fe-11c325b138e6",
     "showTitle": false,
     "tableResultSettingsMap": {},
     "title": ""
    }
   },
   "source": [
    "En el siguiente ejercicio se puede ver cómo filtrar mediante indexacion lógica las filas de una tabla donde genre == jazz"
   ]
  },
  {
   "cell_type": "code",
   "execution_count": 0,
   "metadata": {
    "application/vnd.databricks.v1+cell": {
     "cellMetadata": {},
     "inputWidgets": {},
     "nuid": "1fff82dc-d2e2-4171-b987-2341e09a451e",
     "showTitle": false,
     "tableResultSettingsMap": {},
     "title": ""
    }
   },
   "outputs": [],
   "source": [
    "%python\n",
    "import pandas as pd\n",
    "\n",
    "df = pd.read_csv('/datasets/music_log_chpt_11.csv')\n",
    "\n",
    "jazz_df = df[df[\"genre\"] == \"jazz\"]\n",
    "\n",
    "print(jazz_df)"
   ]
  },
  {
   "cell_type": "code",
   "execution_count": 0,
   "metadata": {
    "application/vnd.databricks.v1+cell": {
     "cellMetadata": {
      "byteLimit": 2048000,
      "rowLimit": 10000
     },
     "inputWidgets": {},
     "nuid": "62d8a7a8-6d4f-49b6-9beb-67221c8ef4d0",
     "showTitle": false,
     "tableResultSettingsMap": {},
     "title": ""
    }
   },
   "outputs": [],
   "source": [
    "%python\n",
    "# En este ejercicio hay que filtrar con idexacion lógica a las filas que coincidan con ser sucursal del centro y con precio unitario mayor a 25.\n",
    "\n",
    "import pandas as pd\n",
    "\n",
    "data = {\n",
    "    'sucursal': ['Centro', 'Norte', 'Sur', 'Centro', 'Norte'],\n",
    "    'producto': ['Camiseta roja', 'Zapatillas azules', 'Camisa blanca', 'Jeans negros', 'Camiseta roja'],\n",
    "    'cliente': ['Ana Garcia', 'Luis Rodriguez', 'Pedro Hernandez', 'Maria Lopez', 'Juan Perez'],\n",
    "    'cantidad': [2, 1, 3, 1, 4],\n",
    "    'precio_unitario': [15.99, 49.99, 29.99, 39.99, 15.99],\n",
    "    'venta_total': [31.98, 49.99, 89.97, 39.99, 63.96]\n",
    "}\n",
    "\n",
    "df = pd.DataFrame(data)\n",
    "\n",
    "ventas_filtradas_df = df.loc[(df[\"sucursal\"] == \"Centro\") & (df[\"precio_unitario\"] > 25 )]\n",
    "print(ventas_filtradas_df)"
   ]
  }
 ],
 "metadata": {
  "application/vnd.databricks.v1+notebook": {
   "computePreferences": null,
   "dashboards": [],
   "environmentMetadata": {
    "base_environment": "",
    "environment_version": "3"
   },
   "inputWidgetPreferences": null,
   "language": "sql",
   "notebookMetadata": {
    "pythonIndentUnit": 4
   },
   "notebookName": "Pandas_idexacion",
   "widgets": {}
  },
  "language_info": {
   "name": "sql"
  }
 },
 "nbformat": 4,
 "nbformat_minor": 0
}
