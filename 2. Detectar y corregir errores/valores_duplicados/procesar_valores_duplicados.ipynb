{
 "cells": [
  {
   "cell_type": "markdown",
   "metadata": {
    "application/vnd.databricks.v1+cell": {
     "cellMetadata": {},
     "inputWidgets": {},
     "nuid": "437f2f53-e089-4bd7-b181-0ee99168568f",
     "showTitle": false,
     "tableResultSettingsMap": {},
     "title": ""
    }
   },
   "source": [
    "Para eliminar duplicados **explícitos** podemos usar lo siguiente para eliminarlos, no necesitar hacer reasingación y además volver a hacer el índice, eliminando la columna auxiliar que se construye con esta función con el índex original.\n",
    "\n",
    "Inicialmente, podremos usar:\n",
    "- **.duplicated().sum()** para conocer la cantidad de filas duplicadas en el dataframe\n",
    "\n",
    "Posteriormente, podemos usar:\n",
    "\n",
    "- **df.drop_duplicates(inplace=True)** esto modifica directamente en dataframe original\n",
    "- **.reset_index(drop=True)** esto resetea el indice cuando se eliminan duplicados.\n",
    "\n",
    "En este caso, para usarlos correctamente juntos se necesita:\n",
    "**- df = df.drop_duplicates().reset_index(drop=True)** esto porque, si se encadenan los métodos juntos, inplace devuelve none y no se le puede encadenar otro método.\n",
    "\n",
    "\n",
    "Por otra parte, los duplicados **implícitos** pueden ser cambios menos evidentes a partir de corrección de errores ortográficos, caracteres únicos, entre otros. Esto puede usar lo siguiente:\n",
    "\n",
    "- **.nunique()** para saber cuántos valores únicos se tienen\n",
    "- **.unique()** para saber cuáles son los duplicados\n",
    "\n",
    "posteriormente, es ideal usar **.replace()** para atender las excepeciones\n",
    "\n"
   ]
  },
  {
   "cell_type": "code",
   "execution_count": 0,
   "metadata": {
    "application/vnd.databricks.v1+cell": {
     "cellMetadata": {},
     "inputWidgets": {},
     "nuid": "0ec127fd-f740-4b68-925f-9f851f8e2165",
     "showTitle": false,
     "tableResultSettingsMap": {},
     "title": ""
    }
   },
   "outputs": [],
   "source": [
    "#La siguiente función recibe un DataFrame, un nombre de columna, una lista de valores incorrectos y un valor correcto. Reemplaza los valores incorrectos por el valor correcto.\n",
    "\n",
    "def replace_wrong_values(df, column, wrong_values, correct_value):\n",
    "    for wrong_value in wrong_values:\n",
    "        df[column] = df[column].replace(wrong_value, correct_value)\n",
    "    return df\n",
    "  \n",
    "\n",
    "duplicates = ['Roger Federerr', 'Roger Feder']\n",
    "name = 'Roger Federer'\n",
    "\n",
    "tennis = replace_wrong_values(tennis, 'name', duplicates, name)\n",
    "print(tennis)\n"
   ]
  },
  {
   "cell_type": "code",
   "execution_count": 0,
   "metadata": {
    "application/vnd.databricks.v1+cell": {
     "cellMetadata": {},
     "inputWidgets": {},
     "nuid": "37fe4da8-bb56-4a5a-81e5-16f7061d9270",
     "showTitle": false,
     "tableResultSettingsMap": {},
     "title": ""
    }
   },
   "outputs": [],
   "source": [
    "import pandas as pd\n",
    "\n",
    "# Carga de datos\n",
    "df = pd.read_csv('/datasets/music_log_raw.csv')\n",
    "\n",
    "# Número de duplicados al inicio\n",
    "print('Número de filas duplicadas (Inicio): ', df.duplicated().sum())\n",
    "# Eliminar duplicados y reseteo de índices a nivel de filas\n",
    "# tu código va aquí\n",
    "df = df.drop_duplicates().reset_index(drop=True)\n",
    "\n",
    "print('Número de filas duplicadas (Final): ', df.duplicated().sum())"
   ]
  },
  {
   "cell_type": "code",
   "execution_count": 0,
   "metadata": {
    "application/vnd.databricks.v1+cell": {
     "cellMetadata": {},
     "inputWidgets": {},
     "nuid": "53831dac-13f4-484f-b4e9-2c902e9a5302",
     "showTitle": false,
     "tableResultSettingsMap": {},
     "title": ""
    }
   },
   "outputs": [],
   "source": [
    "import pandas as pd\n",
    "\n",
    "# Carga de datos\n",
    "df = pd.read_csv('/datasets/music_log_raw.csv')\n",
    "\n",
    "# Encontrar valores únicos en la columna “genre” y \n",
    "# asignarlos a la variable “generos_unicos. \n",
    "generos_unicos = df[\"genre\"].unique()\n",
    "\n",
    "# Mostrar los géneros únicos\n",
    "print(\"Géneros musicales únicos:\", generos_unicos)\n",
    "\n",
    "# Contar la cantidad de géneros únicos\n",
    "cantidad_generos = generos_unicos = df[\"genre\"].nunique()\n",
    "\n",
    "# Imprimir el resultado final\n",
    "print(\"Cantidad de géneros diferentes:\", cantidad_generos)"
   ]
  },
  {
   "cell_type": "code",
   "execution_count": 0,
   "metadata": {
    "application/vnd.databricks.v1+cell": {
     "cellMetadata": {},
     "inputWidgets": {},
     "nuid": "294da275-32d4-4401-ba60-f3cade97834b",
     "showTitle": false,
     "tableResultSettingsMap": {},
     "title": ""
    }
   },
   "outputs": [],
   "source": [
    "import pandas as pd\n",
    "\n",
    "df = pd.read_csv('/datasets/music_log_raw.csv')\n",
    "\n",
    "# Reemplaze los valores ‘hard-n-heavy'` por `\"hard'n'heavy\"`.   \n",
    "# Tu código va aquí \n",
    "df[\"genre\"] = df[\"genre\"].replace(\"hard-n-heavy\", \"hard'n'heavy\")\n",
    "\n",
    "# Reemplaze los valores 'ranchera'` por `'rancheras'`\n",
    "# Tu código va aquí \n",
    "df[\"genre\"] = df[\"genre\"].replace(\"ranchera\", \"rancheras\")\n",
    "\n",
    "# Validación\n",
    "generos_unicos = df[\"genre\"].dropna().unique()\n",
    "filtros = []\n",
    "\n",
    "for g in generos_unicos:\n",
    "    if g[:3] == 'har' or g[:3] == 'ran':\n",
    "        filtros.append(g)\n",
    "\n",
    "# Imprimir el resultado\n",
    "print(filtros)"
   ]
  }
 ],
 "metadata": {
  "application/vnd.databricks.v1+notebook": {
   "computePreferences": null,
   "dashboards": [],
   "environmentMetadata": {
    "base_environment": "",
    "environment_version": "4"
   },
   "inputWidgetPreferences": null,
   "language": "python",
   "notebookMetadata": {
    "pythonIndentUnit": 4
   },
   "notebookName": "procesar_valores_duplicados",
   "widgets": {}
  },
  "language_info": {
   "name": "python"
  }
 },
 "nbformat": 4,
 "nbformat_minor": 0
}
