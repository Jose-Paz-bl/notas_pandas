{
 "cells": [
  {
   "cell_type": "markdown",
   "metadata": {
    "application/vnd.databricks.v1+cell": {
     "cellMetadata": {},
     "inputWidgets": {},
     "nuid": "008ccd82-6ec5-4afe-b44c-49ad4c9f9be1",
     "showTitle": false,
     "tableResultSettingsMap": {},
     "title": ""
    }
   },
   "source": [
    "Normalmente existen errores a manejar como lo son los valores ausentes o duplicados. \n",
    "\n",
    "Particularmente con columnas es importante corregir nombres d ecolumnas que contienen espacios o falta de claridad en nombres de columnas\n",
    "\n",
    "En estos casos es importante \n",
    "- **rename()**"
   ]
  },
  {
   "cell_type": "code",
   "execution_count": 0,
   "metadata": {
    "application/vnd.databricks.v1+cell": {
     "cellMetadata": {
      "byteLimit": 2048000,
      "rowLimit": 10000
     },
     "inputWidgets": {},
     "nuid": "34d38a89-dbe3-4c22-9bfe-d971b3d66d48",
     "showTitle": false,
     "tableResultSettingsMap": {},
     "title": ""
    }
   },
   "outputs": [],
   "source": [
    "import pandas as pd\n",
    "# ======================================\n",
    "# Dataset\n",
    "# ======================================\n",
    "\n",
    "# Datos: cuerpo celeste, distancia mínima (MIN) y máxima (MAX)\n",
    "measurements = [\n",
    "    ['Sun', 146, 152],\n",
    "    ['Moon', 0.36, 0.41],\n",
    "    ['Mercury', 82, 217],\n",
    "    ['Venus', 38, 261],\n",
    "    ['Mars', 56, 401],\n",
    "    ['Jupiter', 588, 968],\n",
    "    ['Saturn', 1195, 1660],\n",
    "    ['Uranus', 2750, 3150],\n",
    "    ['Neptune', 4300, 4700],\n",
    "    [\"Halley's comet\", 6, 5400]\n",
    "]\n",
    "\n",
    "# Nombres de las columnas\n",
    "header = ['Celestial bodies ', 'MIN', 'MAX']\n",
    "\n",
    "# Crear DataFrame\n",
    "celestial = pd.DataFrame(data=measurements, columns=header)\n",
    "\n",
    "# Mostrar nombres de las columnas\n",
    "print(\">>> Nombres de columnas orignales\")\n",
    "print(celestial.columns)\n",
    "print(\" \")\n",
    "\n",
    "# ======================================\n",
    "# Primera solución\n",
    "# ======================================\n",
    "\n",
    "# Diccionario con los nuevos nombres de columnas\n",
    "columns_new = {\n",
    "    \"Celestial bodies \": \"celestial_bodies\",  # nota el espacio al final\n",
    "    \"MIN\": \"min_distance\",\n",
    "    \"MAX\": \"max_distance\"\n",
    "}\n",
    "\n",
    "# Renombrar columnas directamente en el DataFrame, en este caso, inplace=True ayuda a hacer la asignación directa sin tener que hacer el proceso adicional de renombrar y luego mostrar\n",
    "celestial.rename(columns=columns_new, inplace=True)\n",
    "\n",
    "# Mostrar los nuevos nombres de columnas\n",
    "print(\">>> Nuevos nombres de columnas a partir de una reasignación desde un diccionario:\")\n",
    "print(celestial.columns)\n",
    "print(\" \")\n",
    "\n",
    "\n",
    "# ======================================\n",
    "## Limpieza automática de nombres de columnas\n",
    "# ======================================\n",
    "\n",
    "\n",
    "# Creamos una lista vacía para almacenar los nuevos nombres\n",
    "new_col_names = []\n",
    "\n",
    "# Recorremos cada nombre de columna actual\n",
    "for old_name in celestial.columns:\n",
    "\n",
    "    # 1Eliminar espacios al inicio y final del texto\n",
    "    name_stripped = old_name.strip()\n",
    "\n",
    "    # 2️Convertir el texto a minúsculas\n",
    "    name_lowered = name_stripped.lower()\n",
    "\n",
    "    # 3️Reemplazar espacios intermedios por guiones bajos\n",
    "    name_no_spaces = name_lowered.replace(' ', '_')\n",
    "\n",
    "    # 4️Agregar el nuevo nombre a la lista\n",
    "    new_col_names.append(name_no_spaces)\n",
    "\n",
    "# 5️⃣ Asignar los nuevos nombres al DataFrame\n",
    "celestial.columns = new_col_names\n",
    "\n",
    "# 6️⃣ Mostrar los nombres de columnas finales\n",
    "print(\">>> Nuevos nombres de columnas a partir de una función de limpieza:\")\n",
    "print(celestial.columns)\n",
    "\n"
   ]
  }
 ],
 "metadata": {
  "application/vnd.databricks.v1+notebook": {
   "computePreferences": null,
   "dashboards": [],
   "environmentMetadata": {
    "base_environment": "",
    "environment_version": "4"
   },
   "inputWidgetPreferences": null,
   "language": "python",
   "notebookMetadata": {
    "pythonIndentUnit": 4
   },
   "notebookName": "renombrar _columnas",
   "widgets": {}
  },
  "language_info": {
   "name": "python"
  }
 },
 "nbformat": 4,
 "nbformat_minor": 0
}
