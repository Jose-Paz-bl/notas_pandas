{
 "cells": [
  {
   "cell_type": "markdown",
   "metadata": {
    "application/vnd.databricks.v1+cell": {
     "cellMetadata": {},
     "inputWidgets": {},
     "nuid": "8ad838d3-e859-4a32-ace4-f8be88cf0763",
     "showTitle": false,
     "tableResultSettingsMap": {},
     "title": ""
    }
   },
   "source": [
    "Los algoritmos de aprendizaje automático no manejan bien los datos ausentes, por lo que es importante abordarlos adecuadamente.\n",
    "\n",
    "En valores ausentes se pueden utilizar los siguientes métodos\n",
    "\n",
    "- **.isna()** identificar columnas que tienen valores ausentes. Devuelve True si existen valores ausentes. Frecuentemente usada con .**sum()** para contabilizar ambos tipos de datos\n",
    "\n",
    "- **.fillna()** completar los valores ausentes con el método \n",
    "\n",
    "- **.dropna()** eliminar filas o columnas con valores ausentes utilizando el método "
   ]
  },
  {
   "cell_type": "code",
   "execution_count": 0,
   "metadata": {
    "application/vnd.databricks.v1+cell": {
     "cellMetadata": {},
     "inputWidgets": {},
     "nuid": "de342a51-51b0-4356-ba67-64bcc8bce37b",
     "showTitle": false,
     "tableResultSettingsMap": {},
     "title": ""
    }
   },
   "outputs": [],
   "source": [
    "import pandas as pd\n",
    "\n",
    "df = pd.read_csv('/datasets/music_log_raw.csv')\n",
    "\n",
    "#Devuelve el nombre de las columnas y la cantidad de valores ausentes\n",
    "mis_val = df.isna().sum()\n",
    "\n",
    "print(mis_val)"
   ]
  },
  {
   "cell_type": "code",
   "execution_count": 0,
   "metadata": {
    "application/vnd.databricks.v1+cell": {
     "cellMetadata": {},
     "inputWidgets": {},
     "nuid": "9009ba29-decd-4db5-8bf5-60f93108329f",
     "showTitle": false,
     "tableResultSettingsMap": {},
     "title": ""
    }
   },
   "outputs": [],
   "source": [
    "import pandas as pd\n",
    "\n",
    "df = pd.read_csv('/datasets/music_log_raw.csv')\n",
    "\n",
    "columns_to_replace = ['genre', 'Artist', 'track']\n",
    "\n",
    "for col in columns_to_replace:\n",
    "\t#En este caso, se accede al dataframe y se reemplazan los valores nulos por \"no_info\". Al mismo tiempo, inplace hace que, por cada iteración, se modifique el dataframe original.   \n",
    "    df[col].fillna(\"no_info\", inplace=True)\n",
    "\n",
    "print(df.isna().sum())"
   ]
  },
  {
   "cell_type": "code",
   "execution_count": 0,
   "metadata": {
    "application/vnd.databricks.v1+cell": {
     "cellMetadata": {},
     "inputWidgets": {},
     "nuid": "7c3fd041-2cc5-4fe1-8bd5-00ae7b823190",
     "showTitle": false,
     "tableResultSettingsMap": {},
     "title": ""
    }
   },
   "outputs": [],
   "source": [
    "import pandas as pd\n",
    "\n",
    "df = pd.read_csv('/datasets/music_log_raw.csv')\n",
    "\n",
    "# En el siguiente ejemplo, accedemos a la columna total play y reemplazamos los valores nulos por 0 y, con inplace, modificamos el dataframe original\n",
    "df[\"total play\"].fillna(0, inplace=True )\n",
    "\n",
    "print(df.isna().sum())"
   ]
  },
  {
   "cell_type": "code",
   "execution_count": 0,
   "metadata": {
    "application/vnd.databricks.v1+cell": {
     "cellMetadata": {},
     "inputWidgets": {},
     "nuid": "35568ae0-c5eb-4c94-8315-15f4723cd65b",
     "showTitle": false,
     "tableResultSettingsMap": {},
     "title": ""
    }
   },
   "outputs": [],
   "source": [
    "import pandas as pd\n",
    "\n",
    "df = pd.read_csv('/datasets/music_log_raw.csv')\n",
    "\n",
    "# En el siguiente ejemplo, seleccionamos la columna total play y eliminamos los valores nulos y, para no hacer una variable que actualice el dataframe original, usamos inplace.\n",
    "df.dropna(subset=[\"total play\"], inplace=True)\n",
    "\n",
    "print(df.isna().sum())"
   ]
  }
 ],
 "metadata": {
  "application/vnd.databricks.v1+notebook": {
   "computePreferences": null,
   "dashboards": [],
   "environmentMetadata": {
    "base_environment": "",
    "environment_version": "4"
   },
   "inputWidgetPreferences": null,
   "language": "python",
   "notebookMetadata": {
    "pythonIndentUnit": 4
   },
   "notebookName": "procesar_valores_ausentes",
   "widgets": {}
  },
  "language_info": {
   "name": "python"
  }
 },
 "nbformat": 4,
 "nbformat_minor": 0
}
